{
  "nbformat": 4,
  "nbformat_minor": 0,
  "metadata": {
    "colab": {
      "provenance": []
    },
    "kernelspec": {
      "name": "python3",
      "display_name": "Python 3"
    },
    "language_info": {
      "name": "python"
    }
  },
  "cells": [
    {
      "cell_type": "code",
      "source": [
        "import heapq\n",
        "import random\n",
        "import copy\n",
        "\n",
        "def dijkstra(graph, start, end):\n",
        "    # Initialize distances and paths\n",
        "    distances = {node: float('infinity') for node in graph}\n",
        "    distances[start] = 0\n",
        "    paths = {node: [] for node in graph}\n",
        "    visited = set()\n",
        "\n",
        "    # Priority queue to keep track of nodes with minimum distances\n",
        "    priority_queue = [(0, start)]\n",
        "\n",
        "    while priority_queue:\n",
        "        current_distance, current_node = heapq.heappop(priority_queue)\n",
        "\n",
        "        # Skip if already visited\n",
        "        if current_node in visited:\n",
        "            continue\n",
        "\n",
        "        visited.add(current_node)\n",
        "\n",
        "        for neighbor, weight in graph[current_node].items():\n",
        "            distance = current_distance + weight\n",
        "\n",
        "            # Update distance and path if a shorter path is found\n",
        "            if distance < distances[neighbor]:\n",
        "                distances[neighbor] = distance\n",
        "                paths[neighbor] = paths[current_node] + [current_node]\n",
        "\n",
        "                # Push the neighbor into the priority queue\n",
        "                heapq.heappush(priority_queue, (distance, neighbor))\n",
        "\n",
        "    # Return the shortest time and path to the end_node\n",
        "    return distances[end], paths[end] + [end]\n",
        "\n",
        "def simulate_scenario(graph, scenario_name='Base'):\n",
        "    # Simulate uncertainty based on the scenario\n",
        "    if scenario_name == 'Base':\n",
        "        # Use average times from Google Maps or Apple Maps\n",
        "        pass\n",
        "    elif scenario_name == 'RushHour':\n",
        "        # Apply a factor between 1 and 3 for high traffic\n",
        "        factor = random.uniform(1, 3)\n",
        "        for node in graph:\n",
        "            for neighbor in graph[node]:\n",
        "                graph[node][neighbor] *= factor\n",
        "    modified_graph = uncertainty_simulation(graph)\n",
        "    return modified_graph\n",
        "\n",
        "    # Find the shortest path\n",
        "    #shortest_time, shortest_path = dijkstra(graph, start, end)\n",
        "\n",
        "    #return shortest_time, shortest_path\n",
        "\n",
        "def uncertainty_simulation(graph, uncertainty_probability=0.2):\n",
        "    modified_graph = copy.deepcopy(graph)\n",
        "\n",
        "    # Decide whether to introduce uncertainty based on the specified probability\n",
        "    introduce_uncertainty = random.random() < uncertainty_probability\n",
        "    print(introduce_uncertainty)\n",
        "\n",
        "    if introduce_uncertainty:\n",
        "        # Introduce uncertainty in one random path to each selected node\n",
        "        nodes_with_uncertainty = random.sample(graph.keys(),6)\n",
        "        print(\"The nodes randomly selected to incorporate uncertainty are as follows:\", nodes_with_uncertainty)\n",
        "\n",
        "        for node in nodes_with_uncertainty:\n",
        "            # Get all paths leading to the current node\n",
        "            paths_to_node = [path for path in modified_graph if node in modified_graph[path]]\n",
        "\n",
        "            # Choose one random path leading to the current node\n",
        "            chosen_path = random.choice(paths_to_node)\n",
        "\n",
        "            # Introduce uncertainty in the chosen path\n",
        "            for neighbor, weight in modified_graph[node].items():\n",
        "                modified_graph[node][neighbor] = weight*10  # High impact\n",
        "                modified_graph[neighbor][node] = weight*10\n",
        "                break\n",
        "\n",
        "    return modified_graph\n",
        "\n",
        "# Define the graph as an adjacency list\n",
        "graph = {\n",
        "    'A': {'B': 3, 'C': 3, 'E': 4},\n",
        "    'B': {'A': 3, 'D': 3.3, 'E': 2.1},\n",
        "    'C': {'A': 3, 'E': 2.2, 'G': 5.2},\n",
        "    'D': {'B': 3.3, 'E': 2.5, 'F': 3.8},\n",
        "    'E': {'A': 4, 'B': 2.1, 'C': 2.2, 'D': 2.5, 'F': 4.1, 'G': 3.9},\n",
        "    'F': {'D': 3.8, 'E': 4.1, 'G': 2, 'H': 1.7, 'J': 3.1},\n",
        "    'G': {'C': 5.2, 'E': 3.9, 'F': 2, 'H': 3, 'I': 3.3},\n",
        "    'H': {'F': 1.7, 'G': 3, 'I': 1.4, 'K': 3.3},\n",
        "    'I': {'G': 3.3, 'H': 1.4, 'K': 2.7},\n",
        "    'J': {'F': 3.1, 'K': 1},\n",
        "    'K': {'H': 3.3, 'I': 2.7, 'J': 1}\n",
        "}"
      ],
      "metadata": {
        "id": "SvW9gWmQZPgx"
      },
      "execution_count": 1,
      "outputs": []
    },
    {
      "cell_type": "code",
      "source": [
        "# Scenario 1: Base Case without uncertainty\n",
        "\n",
        "new_graph = simulate_scenario(graph,scenario_name='Base')\n",
        "\n",
        "start_node = 'A'\n",
        "end_node = 'K'\n",
        "base_case_result = dijkstra(new_graph, start_node, end_node)\n",
        "print(f\"Base Case Result for A to K: {base_case_result}\")\n",
        "\n",
        "start_node = 'K'\n",
        "end_node = 'A'\n",
        "base_case_result = dijkstra(new_graph, start_node, end_node)\n",
        "print(f\"Base Case Result for K to A: {base_case_result}\")"
      ],
      "metadata": {
        "colab": {
          "base_uri": "https://localhost:8080/"
        },
        "id": "VfukEevOZMSb",
        "outputId": "651afd04-8d2b-4822-fbd7-51d7a74f635d"
      },
      "execution_count": 2,
      "outputs": [
        {
          "output_type": "stream",
          "name": "stdout",
          "text": [
            "False\n",
            "Base Case Result for A to K: (12.2, ['A', 'E', 'F', 'J', 'K'])\n",
            "Base Case Result for K to A: (12.2, ['K', 'J', 'F', 'E', 'A'])\n"
          ]
        }
      ]
    },
    {
      "cell_type": "code",
      "source": [
        "# Scenario 2: Base Case with uncertainty\n",
        "\n",
        "new_graph = simulate_scenario(graph,scenario_name='Base')\n",
        "\n",
        "start_node = 'A'\n",
        "end_node = 'K'\n",
        "base_case_result = dijkstra(new_graph, start_node, end_node)\n",
        "print(f\"Base Case Result for A to K: {base_case_result}\")\n",
        "\n",
        "start_node = 'K'\n",
        "end_node = 'A'\n",
        "base_case_result = dijkstra(new_graph, start_node, end_node)\n",
        "print(f\"Base Case Result for K to A: {base_case_result}\")"
      ],
      "metadata": {
        "colab": {
          "base_uri": "https://localhost:8080/"
        },
        "id": "bQ1xh1qbdVv-",
        "outputId": "9f2d73ae-33ee-4574-9d21-9e16df774dda"
      },
      "execution_count": 18,
      "outputs": [
        {
          "output_type": "stream",
          "name": "stdout",
          "text": [
            "True\n",
            "The nodes randomly selected to incorporate uncertainty are as follows: ['G', 'A', 'J', 'C', 'E', 'I']\n",
            "Base Case Result for A to K: (41.2, ['A', 'B', 'E', 'F', 'H', 'K'])\n",
            "Base Case Result for K to A: (41.2, ['K', 'H', 'F', 'E', 'B', 'A'])\n"
          ]
        },
        {
          "output_type": "stream",
          "name": "stderr",
          "text": [
            "<ipython-input-1-8a4ae11dc519>:66: DeprecationWarning: Sampling from a set deprecated\n",
            "since Python 3.9 and will be removed in a subsequent version.\n",
            "  nodes_with_uncertainty = random.sample(graph.keys(),6)\n"
          ]
        }
      ]
    },
    {
      "cell_type": "code",
      "execution_count": null,
      "metadata": {
        "colab": {
          "base_uri": "https://localhost:8080/"
        },
        "id": "KcKm1mKcZEsF",
        "outputId": "89c7ff41-af64-494c-bdc4-03fd2b637e92"
      },
      "outputs": [
        {
          "output_type": "stream",
          "name": "stdout",
          "text": [
            "False\n",
            "Rush Hour Result for A to K: (20.827051300847078, ['A', 'E', 'F', 'J', 'K'])\n",
            "Rush Hour Result for K to A: (20.827051300847078, ['K', 'J', 'F', 'E', 'A'])\n"
          ]
        }
      ],
      "source": [
        "# Scenario 3: Rush Hour without uncertainty\n",
        "\n",
        "new_graph = simulate_scenario(graph,scenario_name='RushHour')\n",
        "\n",
        "start_node = 'A'\n",
        "end_node = 'K'\n",
        "base_case_result = dijkstra(new_graph, start_node, end_node)\n",
        "print(f\"Rush Hour Result for A to K: {base_case_result}\")\n",
        "\n",
        "start_node = 'K'\n",
        "end_node = 'A'\n",
        "base_case_result = dijkstra(new_graph, start_node, end_node)\n",
        "print(f\"Rush Hour Result for K to A: {base_case_result}\")"
      ]
    },
    {
      "cell_type": "code",
      "source": [
        "# Scenario 4: Rush Hour with uncertainty\n",
        "\n",
        "new_graph = simulate_scenario(graph,scenario_name='RushHour')\n",
        "\n",
        "start_node = 'A'\n",
        "end_node = 'K'\n",
        "base_case_result = dijkstra(new_graph, start_node, end_node)\n",
        "print(f\"Rush Hour Result for A to K: {base_case_result}\")\n",
        "\n",
        "start_node = 'K'\n",
        "end_node = 'A'\n",
        "base_case_result = dijkstra(new_graph, start_node, end_node)\n",
        "print(f\"Rush Hour Result for K to A: {base_case_result}\")"
      ],
      "metadata": {
        "colab": {
          "base_uri": "https://localhost:8080/"
        },
        "id": "pVy5TKNxddPI",
        "outputId": "ac90737a-81ec-49db-9459-8143eacad991"
      },
      "execution_count": 23,
      "outputs": [
        {
          "output_type": "stream",
          "name": "stdout",
          "text": [
            "True\n",
            "The nodes randomly selected to incorporate uncertainty are as follows: ['F', 'K', 'J', 'I', 'G', 'B']\n",
            "Rush Hour Result for A to K: (86.91599731480285, ['A', 'E', 'F', 'H', 'I', 'K'])\n",
            "Rush Hour Result for K to A: (86.91599731480287, ['K', 'I', 'H', 'F', 'E', 'A'])\n"
          ]
        },
        {
          "output_type": "stream",
          "name": "stderr",
          "text": [
            "<ipython-input-1-8a4ae11dc519>:66: DeprecationWarning: Sampling from a set deprecated\n",
            "since Python 3.9 and will be removed in a subsequent version.\n",
            "  nodes_with_uncertainty = random.sample(graph.keys(),6)\n"
          ]
        }
      ]
    }
  ]
}